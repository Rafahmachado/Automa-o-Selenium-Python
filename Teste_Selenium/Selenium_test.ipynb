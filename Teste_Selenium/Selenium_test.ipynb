{
 "cells": [
  {
   "cell_type": "code",
   "execution_count": 1,
   "id": "95550c90",
   "metadata": {},
   "outputs": [],
   "source": [
    "# Automação Web"
   ]
  },
  {
   "cell_type": "code",
   "execution_count": 8,
   "id": "885e8672",
   "metadata": {},
   "outputs": [],
   "source": [
    "from selenium import webdriver\n",
    "from webdriver_manager.chrome import ChromeDriverManager\n",
    "from selenium.webdriver.chrome.service import Service\n",
    "\n",
    "service = Service(ChromeDriverManager().install())\n",
    "\n",
    "navegador = webdriver.Chrome(service=service)"
   ]
  },
  {
   "cell_type": "code",
   "execution_count": 9,
   "id": "8ce8105b",
   "metadata": {},
   "outputs": [],
   "source": [
    "navegador.get(\"http://moodle.jcr.ifsp.edu.br/\")"
   ]
  },
  {
   "cell_type": "code",
   "execution_count": 10,
   "id": "f15ebdbf",
   "metadata": {},
   "outputs": [],
   "source": [
    "navegador.find_element('xpath','//*[@id=\"username\"]').send_keys(\"JC3014053\")\n",
    "navegador.find_element('xpath','//*[@id=\"password\"]').send_keys(\"00000\")\n"
   ]
  },
  {
   "cell_type": "code",
   "execution_count": 12,
   "id": "200d6281",
   "metadata": {},
   "outputs": [
    {
     "ename": "AttributeError",
     "evalue": "'WebDriver' object has no attribute 'find_element_by_xpath'",
     "output_type": "error",
     "traceback": [
      "\u001b[1;31m---------------------------------------------------------------------------\u001b[0m",
      "\u001b[1;31mAttributeError\u001b[0m                            Traceback (most recent call last)",
      "Cell \u001b[1;32mIn[12], line 1\u001b[0m\n\u001b[1;32m----> 1\u001b[0m \u001b[43mnavegador\u001b[49m\u001b[38;5;241;43m.\u001b[39;49m\u001b[43mfind_element_by_xpath\u001b[49m(\u001b[38;5;124m'\u001b[39m\u001b[38;5;124mxpath\u001b[39m\u001b[38;5;124m'\u001b[39m,\u001b[38;5;124m'\u001b[39m\u001b[38;5;124m//*[@id=\u001b[39m\u001b[38;5;124m\"\u001b[39m\u001b[38;5;124mloginbtn\u001b[39m\u001b[38;5;124m\"\u001b[39m\u001b[38;5;124m]\u001b[39m\u001b[38;5;124m'\u001b[39m)\u001b[38;5;241m.\u001b[39mclick()\n",
      "\u001b[1;31mAttributeError\u001b[0m: 'WebDriver' object has no attribute 'find_element_by_xpath'"
     ]
    }
   ],
   "source": [
    "navegador.find_element_by_xpath('xpath','//*[@id=\"loginbtn\"]').click()"
   ]
  },
  {
   "cell_type": "code",
   "execution_count": null,
   "id": "3c20a38e",
   "metadata": {},
   "outputs": [],
   "source": []
  }
 ],
 "metadata": {
  "kernelspec": {
   "display_name": "Python 3 (ipykernel)",
   "language": "python",
   "name": "python3"
  },
  "language_info": {
   "codemirror_mode": {
    "name": "ipython",
    "version": 3
   },
   "file_extension": ".py",
   "mimetype": "text/x-python",
   "name": "python",
   "nbconvert_exporter": "python",
   "pygments_lexer": "ipython3",
   "version": "3.10.9"
  }
 },
 "nbformat": 4,
 "nbformat_minor": 5
}
